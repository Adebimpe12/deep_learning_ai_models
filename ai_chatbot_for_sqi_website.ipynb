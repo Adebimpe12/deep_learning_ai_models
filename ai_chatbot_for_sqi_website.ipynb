{
 "cells": [
  {
   "cell_type": "code",
   "execution_count": 2,
   "id": "9aa2c342-5ab2-4405-b106-e1e2c5cc694c",
   "metadata": {},
   "outputs": [],
   "source": [
    "from sentence_transformers import SentenceTransformer\n",
    "import faiss\n",
    "import json\n",
    "\n",
    "# Load model\n",
    "model = SentenceTransformer('all-MiniLM-L6-v2')\n",
    "\n",
    "# Load your FAQ data\n",
    "with open('sqi_faqs.json') as f:\n",
    "    faqs = json.load(f)\n",
    "\n",
    "questions = [faq['question'] for faq in faqs]\n",
    "answers = [faq['answer'] for faq in faqs]\n",
    "\n",
    "# Generate embeddings\n",
    "embeddings = model.encode(questions)\n",
    "\n",
    "# Create FAISS index\n",
    "# Get the dimensionality of the embeddings (number of features per vector)\n",
    "dimension = embeddings.shape[1]\n",
    "# Create a FAISS index for fast nearest neighbor search and perform brute-force search in vector space\n",
    "index = faiss.IndexFlatL2(dimension)\n",
    "# Add all the precomputed embeddings to the FAISS index to prepare the index for searching similar vectors later\n",
    "index.add(embeddings)\n"
   ]
  },
  {
   "cell_type": "code",
   "execution_count": 3,
   "id": "99743147-19c9-409d-970a-ba929cdf3aa6",
   "metadata": {},
   "outputs": [
    {
     "name": "stdout",
     "output_type": "stream",
     "text": [
      "This depends on the mode and the program you are coming for â€” National Diploma, Professional Diploma, or short-term professional programs â€” and then the cost.\n"
     ]
    }
   ],
   "source": [
    "def get_best_answer(query):\n",
    "     # Convert the query text to a vector embedding using the pre-trained model\n",
    "    query_vector = model.encode([query])\n",
    "    # Search the vector index to find the closest vector (top 1 result)\n",
    "    D, I = index.search(query_vector, k=1)  # top 1 result\n",
    "    # Retrieve the best answer using the index of the closest vector\n",
    "    return answers[I[0][0]]\n",
    "\n",
    "print(get_best_answer(\"How long does the web development course take?\"))\n"
   ]
  }
 ],
 "metadata": {
  "kernelspec": {
   "display_name": "Python 3 (ipykernel)",
   "language": "python",
   "name": "python3"
  },
  "language_info": {
   "codemirror_mode": {
    "name": "ipython",
    "version": 3
   },
   "file_extension": ".py",
   "mimetype": "text/x-python",
   "name": "python",
   "nbconvert_exporter": "python",
   "pygments_lexer": "ipython3",
   "version": "3.12.7"
  }
 },
 "nbformat": 4,
 "nbformat_minor": 5
}
