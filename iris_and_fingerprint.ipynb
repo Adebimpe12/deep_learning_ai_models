{
 "cells": [
  {
   "cell_type": "code",
   "execution_count": 15,
   "id": "5a408783-5e9b-4941-8ada-275b22313656",
   "metadata": {},
   "outputs": [
    {
     "name": "stdout",
     "output_type": "stream",
     "text": [
      "Found 900 images belonging to 45 classes.\n"
     ]
    }
   ],
   "source": [
    "import os\n",
    "import numpy as np\n",
    "import tensorflow as tf\n",
    "from tensorflow.keras.preprocessing.image import load_img, img_to_array\n",
    "\n",
    "IMG_SIZE = (128, 128)\n",
    "BASE_DIR = \"IRIS and FINGERPRINT DATASET\"\n",
    "\n",
    "def get_images_and_labels(base_dir):\n",
    "    image_paths = []\n",
    "    labels = []\n",
    "    label_names = sorted([d for d in os.listdir(base_dir) if os.path.isdir(os.path.join(base_dir, d))])\n",
    "    label_map = {name: idx for idx, name in enumerate(label_names)}\n",
    "    \n",
    "    for label in label_names:\n",
    "        person_dir = os.path.join(base_dir, label)\n",
    "        for subfolder in ['right', 'left', 'Fingerprint']:\n",
    "            folder_path = os.path.join(person_dir, subfolder)\n",
    "            if not os.path.exists(folder_path):\n",
    "                continue\n",
    "            for fname in os.listdir(folder_path):\n",
    "                if fname.lower().endswith(('.bmp', '.jpg', '.jpeg', '.png')):\n",
    "                    image_paths.append(os.path.join(folder_path, fname))\n",
    "                    labels.append(label_map[label])\n",
    "    return image_paths, labels, label_map\n",
    "\n",
    "def preprocess_image(path):\n",
    "    img = load_img(path, target_size=IMG_SIZE)\n",
    "    img_array = img_to_array(img) / 255.0  # Normalize pixels to [0,1]\n",
    "    return img_array\n",
    "\n",
    "image_paths, labels, label_map = get_images_and_labels(BASE_DIR)\n",
    "print(f\"Found {len(image_paths)} images belonging to {len(label_map)} classes.\")\n",
    "\n",
    "# Preprocess images into arrays\n",
    "image_arrays = np.array([preprocess_image(p) for p in image_paths])\n",
    "labels_categorical = tf.keras.utils.to_categorical(labels, num_classes=len(label_map))\n"
   ]
  },
  {
   "cell_type": "code",
   "execution_count": 16,
   "id": "073414e2-9ccb-4287-a6c4-f35a86696e21",
   "metadata": {},
   "outputs": [],
   "source": [
    "BATCH_SIZE = 32\n",
    "\n",
    "dataset = tf.data.Dataset.from_tensor_slices((image_arrays, labels_categorical))\n",
    "dataset = dataset.shuffle(buffer_size=len(image_arrays))\n",
    "dataset = dataset.batch(BATCH_SIZE).prefetch(tf.data.AUTOTUNE)\n"
   ]
  },
  {
   "cell_type": "code",
   "execution_count": 17,
   "id": "0910fd9f-0f74-4c01-8e00-dfbff5289bc7",
   "metadata": {},
   "outputs": [
    {
     "name": "stdout",
     "output_type": "stream",
     "text": [
      "Epoch 1/10\n",
      "\u001b[1m29/29\u001b[0m \u001b[32m━━━━━━━━━━━━━━━━━━━━\u001b[0m\u001b[37m\u001b[0m \u001b[1m18s\u001b[0m 420ms/step - accuracy: 0.0209 - loss: 3.8524\n",
      "Epoch 2/10\n",
      "\u001b[1m29/29\u001b[0m \u001b[32m━━━━━━━━━━━━━━━━━━━━\u001b[0m\u001b[37m\u001b[0m \u001b[1m12s\u001b[0m 420ms/step - accuracy: 0.0336 - loss: 3.8043\n",
      "Epoch 3/10\n",
      "\u001b[1m29/29\u001b[0m \u001b[32m━━━━━━━━━━━━━━━━━━━━\u001b[0m\u001b[37m\u001b[0m \u001b[1m10s\u001b[0m 344ms/step - accuracy: 0.0577 - loss: 3.7696\n",
      "Epoch 4/10\n",
      "\u001b[1m29/29\u001b[0m \u001b[32m━━━━━━━━━━━━━━━━━━━━\u001b[0m\u001b[37m\u001b[0m \u001b[1m11s\u001b[0m 390ms/step - accuracy: 0.0884 - loss: 3.5980\n",
      "Epoch 5/10\n",
      "\u001b[1m29/29\u001b[0m \u001b[32m━━━━━━━━━━━━━━━━━━━━\u001b[0m\u001b[37m\u001b[0m \u001b[1m11s\u001b[0m 369ms/step - accuracy: 0.1784 - loss: 3.1814\n",
      "Epoch 6/10\n",
      "\u001b[1m29/29\u001b[0m \u001b[32m━━━━━━━━━━━━━━━━━━━━\u001b[0m\u001b[37m\u001b[0m \u001b[1m10s\u001b[0m 326ms/step - accuracy: 0.2775 - loss: 2.6951\n",
      "Epoch 7/10\n",
      "\u001b[1m29/29\u001b[0m \u001b[32m━━━━━━━━━━━━━━━━━━━━\u001b[0m\u001b[37m\u001b[0m \u001b[1m11s\u001b[0m 379ms/step - accuracy: 0.4236 - loss: 2.0900\n",
      "Epoch 8/10\n",
      "\u001b[1m29/29\u001b[0m \u001b[32m━━━━━━━━━━━━━━━━━━━━\u001b[0m\u001b[37m\u001b[0m \u001b[1m10s\u001b[0m 349ms/step - accuracy: 0.5133 - loss: 1.8186\n",
      "Epoch 9/10\n",
      "\u001b[1m29/29\u001b[0m \u001b[32m━━━━━━━━━━━━━━━━━━━━\u001b[0m\u001b[37m\u001b[0m \u001b[1m10s\u001b[0m 328ms/step - accuracy: 0.6415 - loss: 1.2714\n",
      "Epoch 10/10\n",
      "\u001b[1m29/29\u001b[0m \u001b[32m━━━━━━━━━━━━━━━━━━━━\u001b[0m\u001b[37m\u001b[0m \u001b[1m11s\u001b[0m 367ms/step - accuracy: 0.7948 - loss: 0.7483\n"
     ]
    },
    {
     "data": {
      "text/plain": [
       "<keras.src.callbacks.history.History at 0x1e4f6d57980>"
      ]
     },
     "execution_count": 17,
     "metadata": {},
     "output_type": "execute_result"
    }
   ],
   "source": [
    "model = tf.keras.Sequential([\n",
    "    tf.keras.layers.Conv2D(32, (3,3), activation='relu', input_shape=(128,128,3)),\n",
    "    tf.keras.layers.MaxPooling2D(2,2),\n",
    "    tf.keras.layers.Conv2D(64, (3,3), activation='relu'),\n",
    "    tf.keras.layers.MaxPooling2D(2,2),\n",
    "    tf.keras.layers.Conv2D(128, (3,3), activation='relu'),\n",
    "    tf.keras.layers.MaxPooling2D(2,2),\n",
    "    tf.keras.layers.Flatten(),\n",
    "    tf.keras.layers.Dense(256, activation='relu'),\n",
    "    tf.keras.layers.Dense(len(label_map), activation='softmax')\n",
    "])\n",
    "\n",
    "model.compile(optimizer='adam', loss='categorical_crossentropy', metrics=['accuracy'])\n",
    "\n",
    "model.fit(dataset, epochs=10)\n"
   ]
  },
  {
   "cell_type": "code",
   "execution_count": 18,
   "id": "3901619c-715e-4b75-8c36-12de87612d29",
   "metadata": {},
   "outputs": [
    {
     "name": "stdout",
     "output_type": "stream",
     "text": [
      "\u001b[1m1/1\u001b[0m \u001b[32m━━━━━━━━━━━━━━━━━━━━\u001b[0m\u001b[37m\u001b[0m \u001b[1m0s\u001b[0m 325ms/step\n",
      "Predicted person ID: 1\n"
     ]
    }
   ],
   "source": [
    "def predict_person(image_path, model, label_map):\n",
    "    img = load_img(image_path, target_size=IMG_SIZE)\n",
    "    img_array = img_to_array(img) / 255.0\n",
    "    img_array = np.expand_dims(img_array, axis=0)\n",
    "    \n",
    "    predictions = model.predict(img_array)\n",
    "    class_idx = np.argmax(predictions)\n",
    "    inv_label_map = {v:k for k,v in label_map.items()}\n",
    "    return inv_label_map[class_idx]\n",
    "\n",
    "# Example\n",
    "test_image = r\"IRIS and FINGERPRINT DATASET\\1\\right\\aevar5.bmp\"\n",
    "predicted_label = predict_person(test_image, model, label_map)\n",
    "print(f\"Predicted person ID: {predicted_label}\")\n"
   ]
  },
  {
   "cell_type": "code",
   "execution_count": null,
   "id": "cae1d44f-5bd9-4286-915e-67731f765637",
   "metadata": {},
   "outputs": [],
   "source": []
  }
 ],
 "metadata": {
  "kernelspec": {
   "display_name": "Python 3 (ipykernel)",
   "language": "python",
   "name": "python3"
  },
  "language_info": {
   "codemirror_mode": {
    "name": "ipython",
    "version": 3
   },
   "file_extension": ".py",
   "mimetype": "text/x-python",
   "name": "python",
   "nbconvert_exporter": "python",
   "pygments_lexer": "ipython3",
   "version": "3.12.7"
  }
 },
 "nbformat": 4,
 "nbformat_minor": 5
}
